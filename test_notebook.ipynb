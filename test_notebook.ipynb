{
 "cells": [
  {
   "cell_type": "code",
   "execution_count": 2,
   "id": "1b6d7a8e-7279-499a-820f-0c3ac813163e",
   "metadata": {},
   "outputs": [
    {
     "name": "stdout",
     "output_type": "stream",
     "text": [
      "Devour & Branch Trainer v0.9\n",
      "performance_dir\n",
      "dataset_dir\n",
      "backbone_dir\n",
      "model_dir\n",
      "csv_dir\n",
      "Backbone model type:  wide_resnet101_2\n",
      "Devouring Module...\n",
      "----------------------------------------\n",
      "conv1   Conv2d\n",
      "bn1   BatchNorm2d\n",
      "relu   ReLU\n",
      "maxpool   MaxPool2d\n",
      "layer1   Sequential\n",
      "layer2   Sequential\n",
      "layer3   Sequential\n",
      "layer4   Sequential\n",
      "avgpool   AdaptiveAvgPool2d\n",
      "fc   Linear\n",
      "----------------------------------------\n",
      "hunting backbone\n",
      "Biting Module...\n",
      "start: 0, end: 3\n",
      "Check \t | \t Module name\n",
      "----------------------------\n",
      "idx: *\t 0 \t Conv2d\n",
      "idx: *\t 1 \t BatchNorm2d\n",
      "idx: *\t 2 \t ReLU\n",
      "idx: *\t 3 \t MaxPool2d\n",
      "idx: \t 4 \t Sequential\n",
      "idx: \t 5 \t Sequential\n",
      "idx: \t 6 \t Sequential\n",
      "idx: \t 7 \t Sequential\n",
      "idx: \t 8 \t AdaptiveAvgPool2d\n",
      "idx: \t 9 \t Linear\n",
      "hunting backbone\n",
      "Biting Module...\n",
      "start: 4, end: 7\n",
      "Check \t | \t Module name\n",
      "----------------------------\n",
      "idx: \t 0 \t Conv2d\n",
      "idx: \t 1 \t BatchNorm2d\n",
      "idx: \t 2 \t ReLU\n",
      "idx: \t 3 \t MaxPool2d\n",
      "idx: *\t 4 \t Sequential\n",
      "idx: *\t 5 \t Sequential\n",
      "idx: *\t 6 \t Sequential\n",
      "idx: *\t 7 \t Sequential\n",
      "idx: \t 8 \t AdaptiveAvgPool2d\n",
      "idx: \t 9 \t Linear\n",
      "hunting backbone\n",
      "Biting Module...\n",
      "start: 8, end: 9\n",
      "Check \t | \t Module name\n",
      "----------------------------\n",
      "idx: \t 0 \t Conv2d\n",
      "idx: \t 1 \t BatchNorm2d\n",
      "idx: \t 2 \t ReLU\n",
      "idx: \t 3 \t MaxPool2d\n",
      "idx: \t 4 \t Sequential\n",
      "idx: \t 5 \t Sequential\n",
      "idx: \t 6 \t Sequential\n",
      "idx: \t 7 \t Sequential\n",
      "idx: *\t 8 \t AdaptiveAvgPool2d\n",
      "idx: *\t 9 \t Linear\n",
      "split feats=4, using N=2 early exits\n",
      "divide size: 2\n",
      "Constructing head-body-tail layers with early exits\n",
      "---------------------------------------------------\n",
      "<head layer>\n",
      "     || \n",
      "[feat layer #0](size=2) -> [exit] #0\n",
      "     || \n",
      "[feat layer #1](size=2) -> [exit] #1\n",
      "     || \n",
      "<tail layer>\n",
      "---------------------------------------------------\n",
      "creating tail layer\n",
      "0. Generating input shape: torch.Size([1, 3, 1000, 1000])\n",
      "1. After head:  torch.Size([1, 64, 250, 250])\n",
      "2. After Feat: torch.Size([1, 512, 125, 125])\n",
      "3. After Feat: torch.Size([1, 2048, 32, 32])\n",
      "X. Input to Tail layer:  torch.Size([1, 2048, 32, 32])\n",
      "Model Set Complete!\n"
     ]
    }
   ],
   "source": [
    "import yaml\n",
    "import argparse\n",
    "from early_ex.utils import *\n",
    "from early_ex.model.devour import DevourModel\n",
    "from early_ex.model.backbone import get_backbone\n",
    "from early_ex.trainer.ce_branch import CEBranchTrainer\n",
    "\n",
    "print(\"Devour & Branch Trainer v0.9\")\n",
    "\n",
    "cfg = config(\"./configs/base.yml\")\n",
    "backbone = get_backbone(cfg)\n",
    "\n",
    "model = DevourModel(cfg, N=cfg['num_exits'])\n",
    "model.devour(backbone, cfg['backbone'])\n",
    "\n"
   ]
  },
  {
   "cell_type": "code",
   "execution_count": null,
   "id": "57ef2b6a-d9f5-48b5-9cfc-1a0498126133",
   "metadata": {
    "scrolled": true,
    "tags": []
   },
   "outputs": [],
   "source": []
  },
  {
   "cell_type": "code",
   "execution_count": null,
   "id": "1176fa3d-88cf-4804-ac0e-f19496a40192",
   "metadata": {},
   "outputs": [],
   "source": [
    "from torchvision.models.regnet import regnet_x_16gf, regnet_y_400mf,regnet_y_800mf,regnet_y_1_6gf\n",
    "backbone = regnet_y_1_6gf()\n",
    "model = DevourModel(cfg, N=cfg['num_exits'])"
   ]
  },
  {
   "cell_type": "code",
   "execution_count": null,
   "id": "a7791491-71b9-4781-8883-340571e67891",
   "metadata": {},
   "outputs": [],
   "source": [
    "model.hunt(backbone)"
   ]
  },
  {
   "cell_type": "code",
   "execution_count": null,
   "id": "8345c35b-a7ed-4241-8ee5-75f138c5e3f3",
   "metadata": {},
   "outputs": [],
   "source": [
    "model.hunt(backbone.trunk_output)"
   ]
  },
  {
   "cell_type": "code",
   "execution_count": null,
   "id": "3574b65c-0ea8-49d9-a9de-ba8ad2df236c",
   "metadata": {},
   "outputs": [],
   "source": [
    "model.head_list = model.bite(backbone, start=0, end=0)"
   ]
  },
  {
   "cell_type": "code",
   "execution_count": null,
   "id": "9898320e-47aa-45b4-a455-e1317139209f",
   "metadata": {},
   "outputs": [],
   "source": [
    "model.body_list = model.bite(backbone.trunk_output,start=0, end=3)"
   ]
  },
  {
   "cell_type": "code",
   "execution_count": null,
   "id": "e9bd4fee-41f5-4e55-8721-e38c79f36820",
   "metadata": {},
   "outputs": [],
   "source": [
    "model.tail_list = model.bite(backbone, start=2, end=3)"
   ]
  },
  {
   "cell_type": "code",
   "execution_count": null,
   "id": "827f8dce-42ed-4b4e-ba5b-f0d56668bd24",
   "metadata": {},
   "outputs": [],
   "source": [
    "model.devour(backbone)"
   ]
  },
  {
   "cell_type": "code",
   "execution_count": null,
   "id": "05dcd228-3ffb-4b7f-8552-c9b311aae39c",
   "metadata": {},
   "outputs": [],
   "source": []
  }
 ],
 "metadata": {
  "kernelspec": {
   "display_name": "jyp",
   "language": "python",
   "name": "jyp"
  },
  "language_info": {
   "codemirror_mode": {
    "name": "ipython",
    "version": 3
   },
   "file_extension": ".py",
   "mimetype": "text/x-python",
   "name": "python",
   "nbconvert_exporter": "python",
   "pygments_lexer": "ipython3",
   "version": "3.6.9"
  }
 },
 "nbformat": 4,
 "nbformat_minor": 5
}
